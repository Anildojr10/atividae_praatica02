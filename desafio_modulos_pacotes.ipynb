{
 "cells": [
  {
   "cell_type": "markdown",
   "id": "711118fa",
   "metadata": {},
   "source": [
    "# 📦 Desafio: Trabalhando com Módulos e Pacotes em Python\n",
    "\n",
    "Este notebook pratica a criação e uso de módulos e pacotes."
   ]
  },
  {
   "cell_type": "markdown",
   "id": "ab2ad8e8",
   "metadata": {},
   "source": [
    "## Parte 1: Criando um Módulo `matematica.py`"
   ]
  },
  {
   "cell_type": "code",
   "execution_count": 1,
   "id": "0504a96c",
   "metadata": {},
   "outputs": [],
   "source": [
    "# Criar o módulo matematica.py\n",
    "with open(\"matematica.py\", \"w\", encoding=\"utf-8\") as f:\n",
    "    f.write(\"\"\"def soma(a, b):\n",
    "    return a + b\n",
    "\n",
    "def subtrai(a, b):\n",
    "    return a - b\n",
    "\n",
    "def modulo(n):\n",
    "    return abs(n)\n",
    "\"\"\")\n"
   ]
  },
  {
   "cell_type": "markdown",
   "id": "ff90b427",
   "metadata": {},
   "source": [
    "## Parte 2: Criando o Pacote `meu_pacote`"
   ]
  },
  {
   "cell_type": "code",
   "execution_count": 2,
   "id": "307bb0a5",
   "metadata": {},
   "outputs": [],
   "source": [
    "import os\n",
    "\n",
    "# Criar estrutura do pacote\n",
    "os.makedirs(\"meu_pacote\", exist_ok=True)\n",
    "\n",
    "# __init__.py (vazio)\n",
    "with open(\"meu_pacote/__init__.py\", \"w\", encoding=\"utf-8\") as f:\n",
    "    f.write(\"\")\n",
    "\n",
    "# mensagens.py\n",
    "with open(\"meu_pacote/mensagens.py\", \"w\", encoding=\"utf-8\") as f:\n",
    "    f.write(\"\"\"def boas_vindas(nome):\n",
    "    return f\"Bem-vindo, {nome}! Vamos aprender Python!\"\n",
    "\"\"\")\n",
    "\n",
    "# operacoes.py\n",
    "with open(\"meu_pacote/operacoes.py\", \"w\", encoding=\"utf-8\") as f:\n",
    "    f.write(\"\"\"def multiplica(a, b):\n",
    "    return a * b\n",
    "\"\"\")\n"
   ]
  },
  {
   "cell_type": "markdown",
   "id": "dccf318b",
   "metadata": {},
   "source": [
    "## Parte 3: Usando os Módulos e Pacotes"
   ]
  },
  {
   "cell_type": "code",
   "execution_count": 3,
   "id": "3d8da5fe",
   "metadata": {},
   "outputs": [
    {
     "name": "stdout",
     "output_type": "stream",
     "text": [
      "Bem-vindo, Anildo! Vamos aprender Python!\n",
      "Soma: 7\n",
      "Subtração: 6\n",
      "Módulo: 5\n",
      "Multiplicação: 21\n"
     ]
    }
   ],
   "source": [
    "from matematica import soma, subtrai, modulo\n",
    "from meu_pacote.mensagens import boas_vindas\n",
    "from meu_pacote.operacoes import multiplica\n",
    "\n",
    "print(boas_vindas(\"Anildo\"))\n",
    "print(\"Soma:\", soma(5, 2))\n",
    "print(\"Subtração:\", subtrai(10, 4))\n",
    "print(\"Módulo:\", modulo(5))\n",
    "print(\"Multiplicação:\", multiplica(3, 7))\n"
   ]
  }
 ],
 "metadata": {
  "kernelspec": {
   "display_name": "digital",
   "language": "python",
   "name": "python3"
  },
  "language_info": {
   "codemirror_mode": {
    "name": "ipython",
    "version": 3
   },
   "file_extension": ".py",
   "mimetype": "text/x-python",
   "name": "python",
   "nbconvert_exporter": "python",
   "pygments_lexer": "ipython3",
   "version": "3.12.4"
  }
 },
 "nbformat": 4,
 "nbformat_minor": 5
}
