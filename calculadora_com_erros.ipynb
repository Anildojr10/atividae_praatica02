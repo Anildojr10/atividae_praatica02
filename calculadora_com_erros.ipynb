{
 "cells": [
  {
   "cell_type": "markdown",
   "id": "873aec8a",
   "metadata": {},
   "source": [
    "# 🧮 Calculadora com Tratamento de Erros\n",
    "\n",
    "Este notebook implementa uma calculadora em Python com tratamento de erros para entradas inválidas, operações inválidas e divisão por zero."
   ]
  },
  {
   "cell_type": "code",
   "execution_count": null,
   "id": "a12ab15a",
   "metadata": {},
   "outputs": [],
   "source": [
    "def calculadora():\n",
    "    while True:\n",
    "        try:\n",
    "            # Solicita o primeiro número\n",
    "            num1 = float(input(\"Digite o primeiro número: \"))\n",
    "\n",
    "            # Solicita o segundo número\n",
    "            num2 = float(input(\"Digite o segundo número: \"))\n",
    "\n",
    "            # Solicita a operação\n",
    "            operacao = input(\"Digite a operação (+, -, *, /): \")\n",
    "\n",
    "            # Verifica se a operação é válida\n",
    "            if operacao not in ['+', '-', '*', '/']:\n",
    "                print(\"Operação inválida. Tente novamente.\")\n",
    "                continue\n",
    "\n",
    "            # Realiza a operação\n",
    "            if operacao == '+':\n",
    "                resultado = num1 + num2\n",
    "            elif operacao == '-':\n",
    "                resultado = num1 - num2\n",
    "            elif operacao == '*':\n",
    "                resultado = num1 * num2\n",
    "            elif operacao == '/':\n",
    "                if num2 == 0:\n",
    "                    raise ZeroDivisionError(\"Divisão por zero não é permitida.\")\n",
    "                resultado = num1 / num2\n",
    "\n",
    "            # Exibe o resultado e encerra\n",
    "            print(f\"Resultado: {num1} {operacao} {num2} = {resultado}\")\n",
    "            break\n",
    "\n",
    "        except ValueError:\n",
    "            print(\"Erro: Entrada inválida. Certifique-se de digitar números válidos.\")\n",
    "        except ZeroDivisionError as e:\n",
    "            print(f\"Erro: {e}\")\n",
    "        except Exception as e:\n",
    "            print(f\"Ocorreu um erro inesperado: {e}\")\n",
    "\n",
    "# Executa a calculadora\n",
    "calculadora()"
   ]
  }
 ],
 "metadata": {},
 "nbformat": 4,
 "nbformat_minor": 5
}
