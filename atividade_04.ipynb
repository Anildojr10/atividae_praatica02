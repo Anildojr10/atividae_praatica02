{
 "cells": [
  {
   "cell_type": "code",
   "execution_count": 2,
   "id": "5996e4f4",
   "metadata": {},
   "outputs": [],
   "source": [
    "# Criando o arquivo e escrevendo 3 frases\n",
    "with open('minhas_notas.txt', 'w') as arquivo:\n",
    "    arquivo.write(\"Hoje aprendi sobre arquivos em Python.\\n\")\n",
    "    arquivo.write(\"A função open pode usar modos diferentes, como 'w' e 'a'.\\n\")\n",
    "    arquivo.write(\"Também posso ler o conteúdo depois com 'r'.\\n\")\n"
   ]
  },
  {
   "cell_type": "code",
   "execution_count": 3,
   "id": "ae1611a2",
   "metadata": {},
   "outputs": [],
   "source": [
    "# Adicionando 2 frases sem apagar o conteúdo anterior\n",
    "with open('minhas_notas.txt', 'a') as arquivo:\n",
    "    arquivo.write(\"Agora estou praticando como adicionar mais texto.\\n\")\n",
    "    arquivo.write(\"Estou gostando muito de programar em Python!\\n\")\n"
   ]
  },
  {
   "cell_type": "code",
   "execution_count": 4,
   "id": "cd1f782e",
   "metadata": {},
   "outputs": [
    {
     "name": "stdout",
     "output_type": "stream",
     "text": [
      "Conteúdo do arquivo:\n",
      "\n",
      "Hoje aprendi sobre arquivos em Python.\n",
      "A função open pode usar modos diferentes, como 'w' e 'a'.\n",
      "Também posso ler o conteúdo depois com 'r'.\n",
      "Agora estou praticando como adicionar mais texto.\n",
      "Estou gostando muito de programar em Python!\n",
      "\n"
     ]
    }
   ],
   "source": [
    "# Lendo e imprimindo o conteúdo do arquivo\n",
    "with open('minhas_notas.txt', 'r') as arquivo:\n",
    "    conteudo = arquivo.read()\n",
    "    print(\"Conteúdo do arquivo:\\n\")\n",
    "    print(conteudo)\n"
   ]
  }
 ],
 "metadata": {
  "kernelspec": {
   "display_name": "digital",
   "language": "python",
   "name": "python3"
  },
  "language_info": {
   "codemirror_mode": {
    "name": "ipython",
    "version": 3
   },
   "file_extension": ".py",
   "mimetype": "text/x-python",
   "name": "python",
   "nbconvert_exporter": "python",
   "pygments_lexer": "ipython3",
   "version": "3.12.4"
  }
 },
 "nbformat": 4,
 "nbformat_minor": 5
}
